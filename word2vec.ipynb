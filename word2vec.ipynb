{
 "cells": [
  {
   "cell_type": "code",
   "execution_count": 32,
   "metadata": {},
   "outputs": [],
   "source": [
    "from bs4 import BeautifulSoup as bs\n",
    "from gensim.models import Word2Vec\n",
    "import requests\n",
    "import re"
   ]
  },
  {
   "cell_type": "code",
   "execution_count": 33,
   "metadata": {},
   "outputs": [],
   "source": [
    "with open('tkk_test_2016.xml', encoding = 'utf-8') as dataset:\n",
    "    soup = bs(dataset, \"lxml\")\n",
    "    soup.prettify()\n",
    "    soup.get_attribute_list"
   ]
  },
  {
   "cell_type": "code",
   "execution_count": 34,
   "metadata": {},
   "outputs": [],
   "source": [
    "res = soup.findAll(\"column\", {\"name\":\"text\"})"
   ]
  },
  {
   "cell_type": "code",
   "execution_count": 35,
   "metadata": {},
   "outputs": [],
   "source": [
    "cleanvec = []\n",
    "for r in res:\n",
    "    clean = r.text\n",
    "    reg = re.compile('http[s]?://[\\w.-]+')\n",
    "    reg = re.compile('[@]|(?:[a-zA-Z]|[0-9]|[$-_@.&+])|[:]')\n",
    "    cleanvec.append(reg.sub('', clean))"
   ]
  },
  {
   "cell_type": "code",
   "execution_count": 36,
   "metadata": {},
   "outputs": [],
   "source": [
    "sentences = [] \n",
    "for d in cleanvec:\n",
    "    cleand = d\n",
    "    regd = re.compile('[^a-zA-Z а-яА-Я]')\n",
    "    sentences.append(regd.sub('', cleand))"
   ]
  },
  {
   "cell_type": "code",
   "execution_count": 37,
   "metadata": {},
   "outputs": [
    {
     "name": "stderr",
     "output_type": "stream",
     "text": [
      "IOPub data rate exceeded.\n",
      "The notebook server will temporarily stop sending output\n",
      "to the client in order to avoid crashing it.\n",
      "To change this limit, set the config variable\n",
      "`--NotebookApp.iopub_data_rate_limit`.\n",
      "\n",
      "Current values:\n",
      "NotebookApp.iopub_data_rate_limit=1000000.0 (bytes/sec)\n",
      "NotebookApp.rate_limit_window=3.0 (secs)\n",
      "\n"
     ]
    }
   ],
   "source": [
    "sentences_v = [] \n",
    "for m in sentences:   \n",
    "    sentences_v.append(m.split(\" \"))\n",
    "print(sentences_v)"
   ]
  },
  {
   "cell_type": "code",
   "execution_count": 38,
   "metadata": {},
   "outputs": [],
   "source": [
    "model = Word2Vec(sentences_v, min_count=1)"
   ]
  },
  {
   "cell_type": "code",
   "execution_count": 51,
   "metadata": {},
   "outputs": [
    {
     "data": {
      "text/plain": [
       "[('Мобильный', 0.9972254037857056),\n",
       " ('салонах', 0.9968600273132324),\n",
       " ('Скидка', 0.9968546628952026),\n",
       " ('Сбербанк', 0.9967387318611145),\n",
       " ('салоне', 0.9966583251953125)]"
      ]
     },
     "execution_count": 51,
     "metadata": {},
     "output_type": "execute_result"
    }
   ],
   "source": [
    "result = model.most_similar(positive=['Билайн', 'хорошо'], negative=['проблема'], topn=5)\n",
    "result"
   ]
  },
  {
   "cell_type": "code",
   "execution_count": null,
   "metadata": {},
   "outputs": [],
   "source": []
  },
  {
   "cell_type": "code",
   "execution_count": null,
   "metadata": {},
   "outputs": [],
   "source": []
  }
 ],
 "metadata": {
  "kernelspec": {
   "display_name": "Python 3",
   "language": "python",
   "name": "python3"
  },
  "language_info": {
   "codemirror_mode": {
    "name": "ipython",
    "version": 3
   },
   "file_extension": ".py",
   "mimetype": "text/x-python",
   "name": "python",
   "nbconvert_exporter": "python",
   "pygments_lexer": "ipython3",
   "version": "3.6.4"
  }
 },
 "nbformat": 4,
 "nbformat_minor": 2
}
