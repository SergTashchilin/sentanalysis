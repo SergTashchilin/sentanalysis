{
 "cells": [
  {
   "cell_type": "code",
   "execution_count": 46,
   "metadata": {},
   "outputs": [],
   "source": [
    "import pandas as pd\n",
    "import os\n",
    "from sklearn.feature_extraction.text import TfidfTransformer\n",
    "from sklearn.feature_extraction.text import TfidfVectorizer\n",
    "from sklearn.pipeline import Pipeline\n",
    "from sklearn.linear_model import LogisticRegression\n",
    "from sklearn.ensemble import RandomForestClassifier"
   ]
  },
  {
   "cell_type": "code",
   "execution_count": 47,
   "metadata": {},
   "outputs": [],
   "source": [
    "basepath = 'aclImdb\\\\train'\n",
    "labels = {'pos': 1, 'neg': 0}\n",
    "dataset = pd.DataFrame()\n",
    "for sent in ('pos', 'neg'):\n",
    "    path = os.path.join(basepath, sent)\n",
    "    for file in os.listdir(path):\n",
    "        with open(os.path.join(path, file), 'r', encoding='utf-8') as f:\n",
    "            txt = f.read()\n",
    "            dataset = dataset.append([[txt, labels[sent]]], ignore_index=True)\n",
    "dataset.columns = ['review', 'sent']"
   ]
  },
  {
   "cell_type": "code",
   "execution_count": 48,
   "metadata": {},
   "outputs": [],
   "source": [
    "X_train = df.loc[:25000, 'review'].values\n",
    "y_train = df.loc[:25000, 'sent'].values\n",
    "\n",
    "tfidf = TfidfVectorizer(strip_accents=None,\n",
    "                        lowercase=False,\n",
    "                        preprocessor=None)"
   ]
  },
  {
   "cell_type": "code",
   "execution_count": 51,
   "metadata": {},
   "outputs": [
    {
     "name": "stdout",
     "output_type": "stream",
     "text": [
      "Test Accuracy: 0.9\n"
     ]
    }
   ],
   "source": [
    "logrtfidf = Pipeline([('vect', tfidf), ('clf', LogisticRegression(random_state=15))])\n",
    "logrtfidf = logrtfidf.fit(X_train, y_train)\n",
    "print('Test Accuracy: %.1f' % logrtfidf.score(X_train, y_train))"
   ]
  },
  {
   "cell_type": "code",
   "execution_count": 52,
   "metadata": {},
   "outputs": [
    {
     "name": "stdout",
     "output_type": "stream",
     "text": [
      "Test Accuracy: 1.0\n"
     ]
    }
   ],
   "source": [
    "rfctfidf = Pipeline([('vect', tfidf), ('clf', RandomForestClassifier(n_estimators=100, random_state=15))])\n",
    "rfctfidf = rfctfidf.fit(X_train, y_train)\n",
    "print('Test Accuracy: %.1f' % rfctfidf.score(X_train, y_train))"
   ]
  },
  {
   "cell_type": "code",
   "execution_count": null,
   "metadata": {},
   "outputs": [],
   "source": []
  }
 ],
 "metadata": {
  "kernelspec": {
   "display_name": "Python 3",
   "language": "python",
   "name": "python3"
  },
  "language_info": {
   "codemirror_mode": {
    "name": "ipython",
    "version": 3
   },
   "file_extension": ".py",
   "mimetype": "text/x-python",
   "name": "python",
   "nbconvert_exporter": "python",
   "pygments_lexer": "ipython3",
   "version": "3.6.4"
  }
 },
 "nbformat": 4,
 "nbformat_minor": 2
}
